{
 "cells": [
  {
   "cell_type": "markdown",
   "id": "bdde77f8",
   "metadata": {},
   "source": [
    "### 1. improts"
   ]
  },
  {
   "cell_type": "code",
   "execution_count": null,
   "id": "6b18b3cf",
   "metadata": {},
   "outputs": [],
   "source": [
    "import pandas as pd\n",
    "import numpy as np\n",
    "import matplotlib.pyplot as plt\n",
    "from sklearn.datasets import load_iris\n",
    "%matplotlib inline"
   ]
  },
  {
   "cell_type": "markdown",
   "id": "7b603d2e",
   "metadata": {},
   "source": [
    "### 2. Load iris dataset"
   ]
  },
  {
   "cell_type": "code",
   "execution_count": 2,
   "id": "da0af4b8",
   "metadata": {},
   "outputs": [],
   "source": [
    "iris = load_iris()"
   ]
  },
  {
   "cell_type": "markdown",
   "id": "fd64e263",
   "metadata": {},
   "source": [
    "### 3. Explore the dataset using .keys()"
   ]
  },
  {
   "cell_type": "code",
   "execution_count": 3,
   "id": "d4465e79",
   "metadata": {},
   "outputs": [
    {
     "data": {
      "text/plain": [
       "dict_keys(['data', 'target', 'frame', 'target_names', 'DESCR', 'feature_names', 'filename', 'data_module'])"
      ]
     },
     "execution_count": 3,
     "metadata": {},
     "output_type": "execute_result"
    }
   ],
   "source": [
    "iris.keys()"
   ]
  },
  {
   "cell_type": "markdown",
   "id": "0483f155",
   "metadata": {},
   "source": [
    "### 4. Print the shape and type of ‘data’"
   ]
  },
  {
   "cell_type": "code",
   "execution_count": 6,
   "id": "35845e78",
   "metadata": {},
   "outputs": [
    {
     "name": "stdout",
     "output_type": "stream",
     "text": [
      "The shape of the data is : (150, 4)\n",
      "The type of the data is : float64\n"
     ]
    }
   ],
   "source": [
    "shape = iris[\"data\"].shape\n",
    "type = iris[\"data\"].dtype\n",
    "\n",
    "print(\"The shape of the data is : {}\".format(shape))\n",
    "print(\"The type of the data is : {}\".format(type))"
   ]
  },
  {
   "cell_type": "markdown",
   "id": "7f289786",
   "metadata": {},
   "source": [
    "### 5. Store ‘data’ and ‘features_names’ in distinct variables"
   ]
  },
  {
   "cell_type": "code",
   "execution_count": 7,
   "id": "b7e661ad",
   "metadata": {},
   "outputs": [],
   "source": [
    "data = iris[\"data\"] # same as iris.feature_names\n",
    "feature_names = iris[\"feature_names\"] # same as iris.feature_names"
   ]
  },
  {
   "cell_type": "markdown",
   "id": "3633884d",
   "metadata": {},
   "source": [
    "### 6. Create a pandas dataframe with ‘data’ and use ‘feature_names’ for column names"
   ]
  },
  {
   "cell_type": "code",
   "execution_count": 8,
   "id": "f01e064c",
   "metadata": {},
   "outputs": [
    {
     "name": "stdout",
     "output_type": "stream",
     "text": [
      "     sepal length (cm)  sepal width (cm)  petal length (cm)  petal width (cm)\n",
      "0                  5.1               3.5                1.4               0.2\n",
      "1                  4.9               3.0                1.4               0.2\n",
      "2                  4.7               3.2                1.3               0.2\n",
      "3                  4.6               3.1                1.5               0.2\n",
      "4                  5.0               3.6                1.4               0.2\n",
      "..                 ...               ...                ...               ...\n",
      "145                6.7               3.0                5.2               2.3\n",
      "146                6.3               2.5                5.0               1.9\n",
      "147                6.5               3.0                5.2               2.0\n",
      "148                6.2               3.4                5.4               2.3\n",
      "149                5.9               3.0                5.1               1.8\n",
      "\n",
      "[150 rows x 4 columns]\n"
     ]
    }
   ],
   "source": [
    "df = pd.DataFrame(data,columns= feature_names)\n",
    "print(df)"
   ]
  },
  {
   "cell_type": "markdown",
   "id": "1778095e",
   "metadata": {},
   "source": [
    "### 7. Get statistics for this dataframe using .describe()"
   ]
  },
  {
   "cell_type": "code",
   "execution_count": 9,
   "id": "5cadb5bb",
   "metadata": {},
   "outputs": [
    {
     "data": {
      "text/html": [
       "<div>\n",
       "<style scoped>\n",
       "    .dataframe tbody tr th:only-of-type {\n",
       "        vertical-align: middle;\n",
       "    }\n",
       "\n",
       "    .dataframe tbody tr th {\n",
       "        vertical-align: top;\n",
       "    }\n",
       "\n",
       "    .dataframe thead th {\n",
       "        text-align: right;\n",
       "    }\n",
       "</style>\n",
       "<table border=\"1\" class=\"dataframe\">\n",
       "  <thead>\n",
       "    <tr style=\"text-align: right;\">\n",
       "      <th></th>\n",
       "      <th>sepal length (cm)</th>\n",
       "      <th>sepal width (cm)</th>\n",
       "      <th>petal length (cm)</th>\n",
       "      <th>petal width (cm)</th>\n",
       "    </tr>\n",
       "  </thead>\n",
       "  <tbody>\n",
       "    <tr>\n",
       "      <th>count</th>\n",
       "      <td>150.000000</td>\n",
       "      <td>150.000000</td>\n",
       "      <td>150.000000</td>\n",
       "      <td>150.000000</td>\n",
       "    </tr>\n",
       "    <tr>\n",
       "      <th>mean</th>\n",
       "      <td>5.843333</td>\n",
       "      <td>3.057333</td>\n",
       "      <td>3.758000</td>\n",
       "      <td>1.199333</td>\n",
       "    </tr>\n",
       "    <tr>\n",
       "      <th>std</th>\n",
       "      <td>0.828066</td>\n",
       "      <td>0.435866</td>\n",
       "      <td>1.765298</td>\n",
       "      <td>0.762238</td>\n",
       "    </tr>\n",
       "    <tr>\n",
       "      <th>min</th>\n",
       "      <td>4.300000</td>\n",
       "      <td>2.000000</td>\n",
       "      <td>1.000000</td>\n",
       "      <td>0.100000</td>\n",
       "    </tr>\n",
       "    <tr>\n",
       "      <th>25%</th>\n",
       "      <td>5.100000</td>\n",
       "      <td>2.800000</td>\n",
       "      <td>1.600000</td>\n",
       "      <td>0.300000</td>\n",
       "    </tr>\n",
       "    <tr>\n",
       "      <th>50%</th>\n",
       "      <td>5.800000</td>\n",
       "      <td>3.000000</td>\n",
       "      <td>4.350000</td>\n",
       "      <td>1.300000</td>\n",
       "    </tr>\n",
       "    <tr>\n",
       "      <th>75%</th>\n",
       "      <td>6.400000</td>\n",
       "      <td>3.300000</td>\n",
       "      <td>5.100000</td>\n",
       "      <td>1.800000</td>\n",
       "    </tr>\n",
       "    <tr>\n",
       "      <th>max</th>\n",
       "      <td>7.900000</td>\n",
       "      <td>4.400000</td>\n",
       "      <td>6.900000</td>\n",
       "      <td>2.500000</td>\n",
       "    </tr>\n",
       "  </tbody>\n",
       "</table>\n",
       "</div>"
      ],
      "text/plain": [
       "       sepal length (cm)  sepal width (cm)  petal length (cm)  \\\n",
       "count         150.000000        150.000000         150.000000   \n",
       "mean            5.843333          3.057333           3.758000   \n",
       "std             0.828066          0.435866           1.765298   \n",
       "min             4.300000          2.000000           1.000000   \n",
       "25%             5.100000          2.800000           1.600000   \n",
       "50%             5.800000          3.000000           4.350000   \n",
       "75%             6.400000          3.300000           5.100000   \n",
       "max             7.900000          4.400000           6.900000   \n",
       "\n",
       "       petal width (cm)  \n",
       "count        150.000000  \n",
       "mean           1.199333  \n",
       "std            0.762238  \n",
       "min            0.100000  \n",
       "25%            0.300000  \n",
       "50%            1.300000  \n",
       "75%            1.800000  \n",
       "max            2.500000  "
      ]
     },
     "execution_count": 9,
     "metadata": {},
     "output_type": "execute_result"
    }
   ],
   "source": [
    "df.describe()"
   ]
  },
  {
   "cell_type": "markdown",
   "id": "3b4bc3f6",
   "metadata": {},
   "source": [
    "### 8. Keep only the first 50 rows only"
   ]
  },
  {
   "cell_type": "code",
   "execution_count": 10,
   "id": "94f131a5",
   "metadata": {},
   "outputs": [],
   "source": [
    "df_50 = df[:50][:]"
   ]
  },
  {
   "cell_type": "markdown",
   "id": "2a07e269",
   "metadata": {},
   "source": [
    "### 9. Create an empty list to store extreme values for sepal length"
   ]
  },
  {
   "cell_type": "code",
   "execution_count": 12,
   "id": "e3bbaa9d",
   "metadata": {},
   "outputs": [
    {
     "name": "stdout",
     "output_type": "stream",
     "text": [
      "5.843333333333334\n",
      "0.8280661279778629\n"
     ]
    }
   ],
   "source": [
    "extreme_values = []\n",
    "\n",
    "# Get column \"sepal length\" \n",
    "sepal_length = df[\"sepal length (cm)\"]\n",
    "\n",
    "# get mean\n",
    "mean = sepal_length.mean()\n",
    "print(mean)\n",
    "\n",
    "# get std\n",
    "std = sepal_length.std()\n",
    "print(std)\n",
    "\n",
    "# use for loop to iterate over every row\n",
    "for length in sepal_length:\n",
    "        \n",
    "    # compute the standardized value -> formula = (value - mean)/std\n",
    "    e_t = (length - mean) / std\n",
    "    \n",
    "    # if > 3.9 standard deviation, consider extreme\n",
    "    if abs(e_t) > 3.9:\n",
    "        \n",
    "        # append extreme value\n",
    "        extreme_values.append(length)"
   ]
  },
  {
   "cell_type": "code",
   "execution_count": 13,
   "id": "008fe8b2",
   "metadata": {},
   "outputs": [
    {
     "name": "stdout",
     "output_type": "stream",
     "text": [
      "[]\n"
     ]
    }
   ],
   "source": [
    "# No extreme values are found\n",
    "print(extreme_values)"
   ]
  },
  {
   "cell_type": "markdown",
   "id": "3f0100db",
   "metadata": {},
   "source": [
    "### 10. what about other features? This is basically repeating the previous operations, but on a different column. Try automating this by writing a function."
   ]
  },
  {
   "cell_type": "code",
   "execution_count": 14,
   "id": "4c16f4c8",
   "metadata": {},
   "outputs": [],
   "source": [
    "def find_extreme_values(df, column, extreme = 3.9):\n",
    "    '''\n",
    "    Find extreme values for a given column\n",
    "    \n",
    "    Args\n",
    "    \n",
    "    \n",
    "    returns\n",
    "    \n",
    "    '''\n",
    "    \n",
    "    # initialize empty list to contain extreme values\n",
    "    extreme_values = []\n",
    "    \n",
    "    # get column\n",
    "    col = df[column].astype(float)\n",
    "    \n",
    "    # compute mean\n",
    "    mean = col.mean()\n",
    "    \n",
    "    # compute std\n",
    "    std = col.std()\n",
    "    \n",
    "    for row in col:\n",
    "        \n",
    "        # compite standard deviation\n",
    "        e_t = (row-mean)/std\n",
    "        \n",
    "        #print(e_t)\n",
    "        \n",
    "        if abs(e_t) >= extreme:\n",
    "        \n",
    "            #print(abs(e_t))\n",
    "        \n",
    "            # add to df \n",
    "            extreme_values.append(e_t)\n",
    "        \n",
    "    return extreme_values"
   ]
  },
  {
   "cell_type": "code",
   "execution_count": 15,
   "id": "b168e7e5",
   "metadata": {},
   "outputs": [
    {
     "data": {
      "text/plain": [
       "[]"
      ]
     },
     "execution_count": 15,
     "metadata": {},
     "output_type": "execute_result"
    }
   ],
   "source": [
    "find_extreme_values(df, \"sepal width (cm)\", extreme = 3.9)"
   ]
  },
  {
   "cell_type": "markdown",
   "id": "b50352ab",
   "metadata": {},
   "source": [
    "### 11-13. Boxplot distribution"
   ]
  },
  {
   "cell_type": "code",
   "execution_count": 16,
   "id": "ed558e67",
   "metadata": {},
   "outputs": [
    {
     "data": {
      "image/png": "[encoded data removed]",
      "text/plain": [
       "<Figure size 640x480 with 1 Axes>"
      ]
     },
     "metadata": {},
     "output_type": "display_data"
    }
   ],
   "source": [
    "plt.boxplot(df)\n",
    "\n",
    "# add title\n",
    "plt.title(\"TITLE\")\n",
    "plt.xlabel(\"X\")\n",
    "plt.ylabel(\"Y\")\n",
    "plt.savefig(\"iris_boxplot.png\")"
   ]
  },
  {
   "cell_type": "markdown",
   "id": "8e3d4021",
   "metadata": {},
   "source": [
    "### All done. Check"
   ]
  },
  {
   "cell_type": "code",
   "execution_count": null,
   "id": "74cf556f",
   "metadata": {},
   "outputs": [],
   "source": []
  }
 ],
 "metadata": {
  "kernelspec": {
   "display_name": "Python 3 (ipykernel)",
   "language": "python",
   "name": "python3"
  },
  "language_info": {
   "codemirror_mode": {
    "name": "ipython",
    "version": 3
   },
   "file_extension": ".py",
   "mimetype": "text/x-python",
   "name": "python",
   "nbconvert_exporter": "python",
   "pygments_lexer": "ipython3",
   "version": "3.11.3"
  }
 },
 "nbformat": 4,
 "nbformat_minor": 5
}
